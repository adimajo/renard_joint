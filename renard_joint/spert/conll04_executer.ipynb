{
 "cells": [
  {
   "cell_type": "code",
   "execution_count": 1,
   "id": "together-counter",
   "metadata": {},
   "outputs": [],
   "source": [
    "import os\n",
    "import math"
   ]
  },
  {
   "cell_type": "code",
   "execution_count": 2,
   "id": "royal-seller",
   "metadata": {},
   "outputs": [],
   "source": [
    "import pandas as pd\n",
    "import torch\n",
    "import transformers\n",
    "from transformers import AdamW, BertConfig\n",
    "from sklearn.metrics import precision_recall_fscore_support"
   ]
  },
  {
   "cell_type": "code",
   "execution_count": 3,
   "id": "opposed-passion",
   "metadata": {},
   "outputs": [],
   "source": [
    "import conll04_constants as constants\n",
    "import conll04_input_generator as input_generator\n",
    "import model"
   ]
  },
  {
   "cell_type": "code",
   "execution_count": 4,
   "id": "planned-glass",
   "metadata": {},
   "outputs": [],
   "source": [
    "from tqdm import tqdm"
   ]
  },
  {
   "cell_type": "code",
   "execution_count": 5,
   "id": "pressed-error",
   "metadata": {},
   "outputs": [],
   "source": [
    "model_save_path = \"../../model/spert/conll04_\""
   ]
  },
  {
   "cell_type": "code",
   "execution_count": 6,
   "id": "adult-privacy",
   "metadata": {},
   "outputs": [],
   "source": [
    "device = torch.device(\"cuda\" if torch.cuda.is_available() else \"cpu\")"
   ]
  },
  {
   "cell_type": "code",
   "execution_count": 7,
   "id": "behavioral-chassis",
   "metadata": {},
   "outputs": [],
   "source": [
    "entity_label_map = {v: k for k, v in input_generator.parser.entity_encode.items()}\n",
    "entity_classes = list(entity_label_map.keys())\n",
    "entity_classes.remove(0)"
   ]
  },
  {
   "cell_type": "code",
   "execution_count": 8,
   "id": "final-cedar",
   "metadata": {},
   "outputs": [],
   "source": [
    "relation_label_map = {v: k for k, v in input_generator.parser.relation_encode.items()}\n",
    "relation_classes = list(relation_label_map.keys())\n",
    "relation_classes.remove(0)"
   ]
  },
  {
   "cell_type": "code",
   "execution_count": 9,
   "id": "essential-affiliation",
   "metadata": {},
   "outputs": [],
   "source": [
    "def get_optimizer_params(model):\n",
    "    params = list(model.named_parameters())\n",
    "    no_decay = [\"bias\", \"LayerNorm.bias\", \"LayerNorm.weight\"]\n",
    "    optimizer_params = [\n",
    "        {\"params\": [p for n, p in params if not any(nd in n for nd in no_decay)],\n",
    "         \"weight_decay\": constants.weight_decay},\n",
    "        {\"params\": [p for n, p in params if any(nd in n for nd in no_decay)],\n",
    "         \"weight_decay\": 0.0}\n",
    "    ]\n",
    "    return optimizer_params"
   ]
  },
  {
   "cell_type": "code",
   "execution_count": 10,
   "id": "proud-raleigh",
   "metadata": {},
   "outputs": [],
   "source": [
    "def evaluate_results(true_labels, predicted_labels, label_map, classes):\n",
    "    \"\"\"Compare the prediction list with the truth values\"\"\"\n",
    "    precision, recall, fbeta_score, support \\\n",
    "        = precision_recall_fscore_support(true_labels, predicted_labels, average=None, labels=classes, \n",
    "                                          zero_division=0)\n",
    "    result = pd.DataFrame(index=[label_map[c] for c in classes])\n",
    "    result[\"precision\"] = precision\n",
    "    result[\"recall\"] = recall\n",
    "    result[\"fbeta_score\"] = fbeta_score\n",
    "    result[\"support\"] = support\n",
    "    result.loc[\"macro\"] = list(precision_recall_fscore_support(true_labels, predicted_labels, average=\"macro\", \n",
    "                                                               labels=classes, zero_division=0))\n",
    "    result.loc[\"micro\"] = list(precision_recall_fscore_support(true_labels, predicted_labels, average=\"micro\", \n",
    "                                                               labels=classes, zero_division=0))\n",
    "    return result"
   ]
  },
  {
   "cell_type": "code",
   "execution_count": 11,
   "id": "critical-norway",
   "metadata": {},
   "outputs": [],
   "source": [
    "def evaluate(spert_model, group):\n",
    "    spert_model.eval()\n",
    "    eval_entity_span_pred = []\n",
    "    eval_entity_span_true = []\n",
    "    eval_entity_embedding_pred = []\n",
    "    eval_entity_embedding_true = []\n",
    "#     eval_relation\n",
    "#     eval_relation_pred = []\n",
    "#     eval_relation_true = []\n",
    "    eval_generator = input_generator.data_generator(group, device, \n",
    "                                                    is_training=False,\n",
    "                                                    neg_entity_count=constants.neg_entity_count, \n",
    "                                                    neg_relation_count=constants.neg_relation_count, \n",
    "                                                    max_span_size=constants.max_span_size)\n",
    "    eval_dataset = list(eval_generator)\n",
    "    eval_size = len(eval_dataset)\n",
    "    for inputs, infos in tqdm(eval_dataset, total=eval_size, desc=\"Evaluation \"+group):\n",
    "        # forward\n",
    "        outputs = spert_model(**inputs, is_training=False)\n",
    "        \n",
    "        # retrieve results for evaluation\n",
    "        eval_entity_span_pred += outputs[\"entity\"][\"pred\"].tolist()\n",
    "        eval_entity_span_true += inputs[\"entity_label\"].tolist()\n",
    "        eval_entity_embedding_pred += outputs[\"entity\"][\"embedding\"].tolist()\n",
    "        eval_entity_embedding_true += infos[\"entity_embedding\"].tolist()\n",
    "#         eval_relation_pred += [] if outputs[\"relation\"] == None else outputs[\"relation\"][\"pred\"].tolist()\n",
    "#         eval_relation_true += inputs[\"relation_label\"].tolist()\n",
    "        assert len(eval_entity_span_pred) == len(eval_entity_span_true)\n",
    "        assert len(eval_entity_embedding_pred) == len(eval_entity_embedding_true)\n",
    "#         assert len(eval_relation_pred) == len(eval_relation_true)\n",
    "        \n",
    "    # evaluate & save\n",
    "    results = pd.concat([\n",
    "        evaluate_results(eval_entity_span_true, eval_entity_span_pred, entity_label_map, entity_classes),\n",
    "        evaluate_results(eval_entity_embedding_true, eval_entity_embedding_pred, entity_label_map, \n",
    "                         entity_classes)#,\n",
    "#         evaluate_results(eval_relation_true, eval_relation_pred, relation_label_map, relation_classes)\n",
    "    ], keys=[\"Entity span\", \"Entity embedding\"])# , \"Relation\"])\n",
    "    results.to_csv(model_save_path + \"evaluate_\" + group + \".csv\")\n",
    "    print(results)"
   ]
  },
  {
   "cell_type": "code",
   "execution_count": 12,
   "id": "yellow-still",
   "metadata": {},
   "outputs": [],
   "source": [
    "def train():\n",
    "    \"\"\"Train the model and evaluate on the dev dataset\n",
    "    \"\"\"\n",
    "    \n",
    "    train_group = \"train\"\n",
    "    validation_group = \"dev\"\n",
    "    \n",
    "    # Training\n",
    "    train_generator = input_generator.data_generator(train_group, device, \n",
    "                                                     is_training=True,\n",
    "                                                     neg_entity_count=constants.neg_entity_count, \n",
    "                                                     neg_relation_count=constants.neg_relation_count, \n",
    "                                                     max_span_size=constants.max_span_size)\n",
    "    train_dataset = list(train_generator)\n",
    "    train_size = len(train_dataset)\n",
    "    \n",
    "    config = BertConfig.from_pretrained(constants.model_path)\n",
    "    spert_model = model.SpERT.from_pretrained(constants.model_path,\n",
    "                                              # SpERT model parameters\n",
    "                                              relation_types=constants.relation_types, \n",
    "                                              entity_types=constants.entity_types, \n",
    "                                              width_embedding_size=constants.width_embedding_size, \n",
    "                                              prop_drop=constants.prop_drop, \n",
    "                                              freeze_transformer=True, \n",
    "                                              max_pairs=constants.max_pairs, \n",
    "                                              is_overlapping=False, \n",
    "                                              relation_filter_threshold=constants.relation_filter_threshold)\n",
    "    spert_model.train()\n",
    "    spert_model.to(device)\n",
    "    optimizer_params = get_optimizer_params(spert_model)\n",
    "    optimizer = AdamW(optimizer_params, lr=constants.lr, weight_decay=constants.weight_decay, correct_bias=False)\n",
    "    scheduler = transformers.get_linear_schedule_with_warmup(optimizer, \n",
    "                             num_warmup_steps=constants.lr_warmup*train_size*constants.epochs, \n",
    "                             num_training_steps=train_size*constants.epochs)\n",
    "    \n",
    "    for epoch in range(constants.epochs):\n",
    "        losses = []\n",
    "        train_entity_span_pred = []\n",
    "        train_entity_span_true = []\n",
    "        train_entity_embedding_pred = []\n",
    "        train_entity_embedding_true = []\n",
    "        train_relation_pred = []\n",
    "        train_relation_true = []\n",
    "        for inputs, infos in tqdm(train_dataset, total=train_size, desc='Train epoch %s' % epoch):\n",
    "            spert_model.zero_grad()\n",
    "            \n",
    "            # forward\n",
    "            outputs = spert_model(**inputs, is_training=True)\n",
    "            \n",
    "            # backward\n",
    "            loss = outputs[\"loss\"]\n",
    "            loss.backward()\n",
    "            torch.nn.utils.clip_grad_norm_(spert_model.parameters(), constants.max_grad_norm)\n",
    "            optimizer.step()\n",
    "            scheduler.step()\n",
    "            # print(optimizer.param_groups[0]['lr'])\n",
    "            \n",
    "            # retrieve results for evaluation\n",
    "            losses.append(loss.item())\n",
    "            train_entity_span_pred += outputs[\"entity\"][\"pred\"].tolist()\n",
    "            train_entity_span_true += inputs[\"entity_label\"].tolist()\n",
    "            train_entity_embedding_pred += outputs[\"entity\"][\"embedding\"].tolist()\n",
    "            train_entity_embedding_true += infos[\"entity_embedding\"].tolist()\n",
    "            train_relation_pred += [] if outputs[\"relation\"] == None else outputs[\"relation\"][\"pred\"].tolist()\n",
    "            train_relation_true += inputs[\"relation_label\"].tolist()\n",
    "            assert len(train_entity_span_pred) == len(train_entity_span_true)\n",
    "            assert len(train_entity_embedding_pred) == len(train_entity_embedding_true)\n",
    "            assert len(train_relation_pred) == len(train_relation_true)\n",
    "            \n",
    "        # evaluate & save checkpoint\n",
    "        print(\"epoch:\", epoch,\"average loss:\", sum(losses) / len(losses))\n",
    "        results = pd.concat([\n",
    "            evaluate_results(train_entity_span_true, train_entity_span_pred, entity_label_map, entity_classes),\n",
    "            evaluate_results(train_entity_embedding_true, train_entity_embedding_pred, entity_label_map, \n",
    "                             entity_classes),\n",
    "            evaluate_results(train_relation_true, train_relation_pred, relation_label_map, relation_classes)\n",
    "        ], keys=[\"Entity span\", \"Entity embedding\", \"Relation\"])\n",
    "        results.to_csv(model_save_path + \"epoch_\" + str(epoch) + \".csv\")\n",
    "        evaluate(spert_model, validation_group)\n",
    "    torch.save(spert_model.state_dict(), model_save_path + \"epoch_\" + str(constants.epochs-1) + \".model\")"
   ]
  },
  {
   "cell_type": "code",
   "execution_count": 13,
   "id": "weekly-pricing",
   "metadata": {
    "tags": []
   },
   "outputs": [
    {
     "name": "stderr",
     "output_type": "stream",
     "text": [
      "Some weights of the model checkpoint at bert-base-cased were not used when initializing SpERT: ['cls.predictions.bias', 'cls.predictions.transform.dense.weight', 'cls.predictions.transform.dense.bias', 'cls.predictions.decoder.weight', 'cls.seq_relationship.weight', 'cls.seq_relationship.bias', 'cls.predictions.transform.LayerNorm.weight', 'cls.predictions.transform.LayerNorm.bias']\n",
      "- This IS expected if you are initializing SpERT from the checkpoint of a model trained on another task or with another architecture (e.g. initializing a BertForSequenceClassification model from a BertForPreTraining model).\n",
      "- This IS NOT expected if you are initializing SpERT from the checkpoint of a model that you expect to be exactly identical (initializing a BertForSequenceClassification model from a BertForSequenceClassification model).\n",
      "Some weights of SpERT were not initialized from the model checkpoint at bert-base-cased and are newly initialized: ['relation_classifier.weight', 'relation_classifier.bias', 'entity_classifier.weight', 'entity_classifier.bias', 'width_embedding.weight']\n",
      "You should probably TRAIN this model on a down-stream task to be able to use it for predictions and inference.\n",
      "Train epoch 0: 100%|█████████████████████████████████████████████████████████████████| 910/910 [00:31<00:00, 28.46it/s]\n"
     ]
    },
    {
     "name": "stdout",
     "output_type": "stream",
     "text": [
      "epoch: 0 average loss: 0.7844143317623453\n"
     ]
    },
    {
     "name": "stderr",
     "output_type": "stream",
     "text": [
      "Evaluation dev: 100%|████████████████████████████████████████████████████████████████| 243/243 [00:09<00:00, 26.61it/s]\n",
      "Train epoch 1:   0%|▎                                                                  | 4/910 [00:00<00:26, 34.48it/s]"
     ]
    },
    {
     "name": "stdout",
     "output_type": "stream",
     "text": [
      "                          precision  recall  fbeta_score  support\n",
      "Entity span      I-Loc          0.0     0.0          0.0    337.0\n",
      "                 I-Peop         0.0     0.0          0.0    225.0\n",
      "                 I-Org          0.0     0.0          0.0    190.0\n",
      "                 I-Other        0.0     0.0          0.0    125.0\n",
      "                 macro          0.0     0.0          0.0      NaN\n",
      "                 micro          0.0     0.0          0.0      NaN\n",
      "Entity embedding I-Loc          0.0     0.0          0.0    717.0\n",
      "                 I-Peop         0.0     0.0          0.0    793.0\n",
      "                 I-Org          0.0     0.0          0.0    747.0\n",
      "                 I-Other        0.0     0.0          0.0    354.0\n",
      "                 macro          0.0     0.0          0.0      NaN\n",
      "                 micro          0.0     0.0          0.0      NaN\n"
     ]
    },
    {
     "name": "stderr",
     "output_type": "stream",
     "text": [
      "Train epoch 1: 100%|█████████████████████████████████████████████████████████████████| 910/910 [00:26<00:00, 34.39it/s]\n"
     ]
    },
    {
     "name": "stdout",
     "output_type": "stream",
     "text": [
      "epoch: 1 average loss: 0.32691486957636506\n"
     ]
    },
    {
     "name": "stderr",
     "output_type": "stream",
     "text": [
      "Evaluation dev: 100%|████████████████████████████████████████████████████████████████| 243/243 [00:09<00:00, 26.18it/s]\n",
      "Train epoch 2:   0%|▎                                                                  | 4/910 [00:00<00:26, 34.78it/s]"
     ]
    },
    {
     "name": "stdout",
     "output_type": "stream",
     "text": [
      "                          precision  recall  fbeta_score  support\n",
      "Entity span      I-Loc          0.0     0.0          0.0    337.0\n",
      "                 I-Peop         0.0     0.0          0.0    225.0\n",
      "                 I-Org          0.0     0.0          0.0    190.0\n",
      "                 I-Other        0.0     0.0          0.0    125.0\n",
      "                 macro          0.0     0.0          0.0      NaN\n",
      "                 micro          0.0     0.0          0.0      NaN\n",
      "Entity embedding I-Loc          0.0     0.0          0.0    717.0\n",
      "                 I-Peop         0.0     0.0          0.0    793.0\n",
      "                 I-Org          0.0     0.0          0.0    747.0\n",
      "                 I-Other        0.0     0.0          0.0    354.0\n",
      "                 macro          0.0     0.0          0.0      NaN\n",
      "                 micro          0.0     0.0          0.0      NaN\n"
     ]
    },
    {
     "name": "stderr",
     "output_type": "stream",
     "text": [
      "Train epoch 2: 100%|█████████████████████████████████████████████████████████████████| 910/910 [00:26<00:00, 34.03it/s]\n"
     ]
    },
    {
     "name": "stdout",
     "output_type": "stream",
     "text": [
      "epoch: 2 average loss: 0.27171740808657235\n"
     ]
    },
    {
     "name": "stderr",
     "output_type": "stream",
     "text": [
      "Evaluation dev: 100%|████████████████████████████████████████████████████████████████| 243/243 [00:09<00:00, 26.75it/s]\n",
      "Train epoch 3:   0%|▎                                                                  | 4/910 [00:00<00:27, 33.06it/s]"
     ]
    },
    {
     "name": "stdout",
     "output_type": "stream",
     "text": [
      "                          precision    recall  fbeta_score  support\n",
      "Entity span      I-Loc     0.375000  0.008902     0.017391    337.0\n",
      "                 I-Peop    0.000000  0.000000     0.000000    225.0\n",
      "                 I-Org     0.000000  0.000000     0.000000    190.0\n",
      "                 I-Other   0.000000  0.000000     0.000000    125.0\n",
      "                 macro     0.093750  0.002226     0.004348      NaN\n",
      "                 micro     0.272727  0.003421     0.006757      NaN\n",
      "Entity embedding I-Loc     0.875000  0.009763     0.019310    717.0\n",
      "                 I-Peop    1.000000  0.003783     0.007538    793.0\n",
      "                 I-Org     0.000000  0.000000     0.000000    747.0\n",
      "                 I-Other   0.000000  0.000000     0.000000    354.0\n",
      "                 macro     0.468750  0.003387     0.006712      NaN\n",
      "                 micro     0.909091  0.003830     0.007628      NaN\n"
     ]
    },
    {
     "name": "stderr",
     "output_type": "stream",
     "text": [
      "Train epoch 3: 100%|█████████████████████████████████████████████████████████████████| 910/910 [00:26<00:00, 34.15it/s]\n"
     ]
    },
    {
     "name": "stdout",
     "output_type": "stream",
     "text": [
      "epoch: 3 average loss: 0.2375957775574464\n"
     ]
    },
    {
     "name": "stderr",
     "output_type": "stream",
     "text": [
      "Evaluation dev: 100%|████████████████████████████████████████████████████████████████| 243/243 [00:09<00:00, 26.40it/s]\n",
      "Train epoch 4:   0%|▎                                                                  | 4/910 [00:00<00:27, 32.79it/s]"
     ]
    },
    {
     "name": "stdout",
     "output_type": "stream",
     "text": [
      "                          precision    recall  fbeta_score  support\n",
      "Entity span      I-Loc     0.395833  0.056380     0.098701    337.0\n",
      "                 I-Peop    0.090909  0.004444     0.008475    225.0\n",
      "                 I-Org     0.000000  0.000000     0.000000    190.0\n",
      "                 I-Other   0.000000  0.000000     0.000000    125.0\n",
      "                 macro     0.121686  0.015206     0.026794      NaN\n",
      "                 micro     0.338983  0.022805     0.042735      NaN\n",
      "Entity embedding I-Loc     0.888889  0.055788     0.104987    717.0\n",
      "                 I-Peop    1.000000  0.013871     0.027363    793.0\n",
      "                 I-Org     0.000000  0.000000     0.000000    747.0\n",
      "                 I-Other   0.000000  0.000000     0.000000    354.0\n",
      "                 macro     0.472222  0.017415     0.033088      NaN\n",
      "                 micro     0.910714  0.019533     0.038245      NaN\n"
     ]
    },
    {
     "name": "stderr",
     "output_type": "stream",
     "text": [
      "Train epoch 4: 100%|█████████████████████████████████████████████████████████████████| 910/910 [00:26<00:00, 33.89it/s]\n"
     ]
    },
    {
     "name": "stdout",
     "output_type": "stream",
     "text": [
      "epoch: 4 average loss: 0.21580167818855453\n"
     ]
    },
    {
     "name": "stderr",
     "output_type": "stream",
     "text": [
      "Evaluation dev: 100%|████████████████████████████████████████████████████████████████| 243/243 [00:09<00:00, 26.15it/s]\n",
      "Train epoch 5:   0%|▎                                                                  | 4/910 [00:00<00:26, 34.19it/s]"
     ]
    },
    {
     "name": "stdout",
     "output_type": "stream",
     "text": [
      "                          precision    recall  fbeta_score  support\n",
      "Entity span      I-Loc     0.500000  0.121662     0.195704    337.0\n",
      "                 I-Peop    0.137931  0.017778     0.031496    225.0\n",
      "                 I-Org     0.000000  0.000000     0.000000    190.0\n",
      "                 I-Other   0.000000  0.000000     0.000000    125.0\n",
      "                 macro     0.159483  0.034860     0.056800      NaN\n",
      "                 micro     0.391304  0.051311     0.090726      NaN\n",
      "Entity embedding I-Loc     0.924051  0.101813     0.183417    717.0\n",
      "                 I-Peop    1.000000  0.030265     0.058752    793.0\n",
      "                 I-Org     0.000000  0.000000     0.000000    747.0\n",
      "                 I-Other   1.000000  0.008475     0.016807    354.0\n",
      "                 macro     0.731013  0.035138     0.064744      NaN\n",
      "                 micro     0.934579  0.038300     0.073584      NaN\n"
     ]
    },
    {
     "name": "stderr",
     "output_type": "stream",
     "text": [
      "Train epoch 5: 100%|█████████████████████████████████████████████████████████████████| 910/910 [00:26<00:00, 34.04it/s]\n"
     ]
    },
    {
     "name": "stdout",
     "output_type": "stream",
     "text": [
      "epoch: 5 average loss: 0.20056984234642197\n"
     ]
    },
    {
     "name": "stderr",
     "output_type": "stream",
     "text": [
      "Evaluation dev: 100%|████████████████████████████████████████████████████████████████| 243/243 [00:09<00:00, 25.97it/s]\n",
      "Train epoch 6:   0%|▎                                                                  | 4/910 [00:00<00:26, 33.91it/s]"
     ]
    },
    {
     "name": "stdout",
     "output_type": "stream",
     "text": [
      "                          precision    recall  fbeta_score  support\n",
      "Entity span      I-Loc     0.508929  0.169139     0.253898    337.0\n",
      "                 I-Peop    0.307692  0.053333     0.090909    225.0\n",
      "                 I-Org     0.000000  0.000000     0.000000    190.0\n",
      "                 I-Other   0.000000  0.000000     0.000000    125.0\n",
      "                 macro     0.204155  0.055618     0.086202      NaN\n",
      "                 micro     0.436709  0.078677     0.133333      NaN\n",
      "Entity embedding I-Loc     0.935780  0.142259     0.246973    717.0\n",
      "                 I-Peop    1.000000  0.050441     0.096038    793.0\n",
      "                 I-Org     0.500000  0.001339     0.002670    747.0\n",
      "                 I-Other   1.000000  0.011299     0.022346    354.0\n",
      "                 macro     0.858945  0.051335     0.092007      NaN\n",
      "                 micro     0.948387  0.056300     0.106291      NaN\n"
     ]
    },
    {
     "name": "stderr",
     "output_type": "stream",
     "text": [
      "Train epoch 6: 100%|█████████████████████████████████████████████████████████████████| 910/910 [00:26<00:00, 33.77it/s]\n"
     ]
    },
    {
     "name": "stdout",
     "output_type": "stream",
     "text": [
      "epoch: 6 average loss: 0.18935942985526807\n"
     ]
    },
    {
     "name": "stderr",
     "output_type": "stream",
     "text": [
      "Evaluation dev: 100%|████████████████████████████████████████████████████████████████| 243/243 [00:09<00:00, 26.50it/s]\n",
      "Train epoch 7:   0%|▎                                                                  | 4/910 [00:00<00:26, 34.19it/s]"
     ]
    },
    {
     "name": "stdout",
     "output_type": "stream",
     "text": [
      "                          precision    recall  fbeta_score  support\n",
      "Entity span      I-Loc     0.538462  0.207715     0.299786    337.0\n",
      "                 I-Peop    0.333333  0.075556     0.123188    225.0\n",
      "                 I-Org     0.000000  0.000000     0.000000    190.0\n",
      "                 I-Other   0.090909  0.008000     0.014706    125.0\n",
      "                 macro     0.240676  0.072818     0.109420      NaN\n",
      "                 micro     0.448980  0.100342     0.164026      NaN\n",
      "Entity embedding I-Loc     0.926230  0.157601     0.269368    717.0\n",
      "                 I-Peop    1.000000  0.065574     0.123077    793.0\n",
      "                 I-Org     0.666667  0.002677     0.005333    747.0\n",
      "                 I-Other   0.888889  0.022599     0.044077    354.0\n",
      "                 macro     0.870446  0.062113     0.110464      NaN\n",
      "                 micro     0.940860  0.067024     0.125134      NaN\n"
     ]
    },
    {
     "name": "stderr",
     "output_type": "stream",
     "text": [
      "Train epoch 7: 100%|█████████████████████████████████████████████████████████████████| 910/910 [00:26<00:00, 33.87it/s]\n"
     ]
    },
    {
     "name": "stdout",
     "output_type": "stream",
     "text": [
      "epoch: 7 average loss: 0.18076251073034255\n"
     ]
    },
    {
     "name": "stderr",
     "output_type": "stream",
     "text": [
      "Evaluation dev: 100%|████████████████████████████████████████████████████████████████| 243/243 [00:09<00:00, 26.40it/s]\n",
      "Train epoch 8:   0%|▎                                                                  | 4/910 [00:00<00:26, 33.89it/s]"
     ]
    },
    {
     "name": "stdout",
     "output_type": "stream",
     "text": [
      "                          precision    recall  fbeta_score  support\n",
      "Entity span      I-Loc     0.566667  0.252226     0.349076    337.0\n",
      "                 I-Peop    0.327869  0.088889     0.139860    225.0\n",
      "                 I-Org     0.363636  0.021053     0.039801    190.0\n",
      "                 I-Other   0.058824  0.008000     0.014085    125.0\n",
      "                 macro     0.329249  0.092542     0.135705      NaN\n",
      "                 micro     0.460251  0.125428     0.197133      NaN\n",
      "Entity embedding I-Loc     0.922535  0.182706     0.305006    717.0\n",
      "                 I-Peop    1.000000  0.080706     0.149358    793.0\n",
      "                 I-Org     0.818182  0.012048     0.023747    747.0\n",
      "                 I-Other   0.846154  0.031073     0.059946    354.0\n",
      "                 macro     0.896718  0.076633     0.134514      NaN\n",
      "                 micro     0.934783  0.082344     0.151355      NaN\n"
     ]
    },
    {
     "name": "stderr",
     "output_type": "stream",
     "text": [
      "Train epoch 8: 100%|█████████████████████████████████████████████████████████████████| 910/910 [00:26<00:00, 33.87it/s]\n"
     ]
    },
    {
     "name": "stdout",
     "output_type": "stream",
     "text": [
      "epoch: 8 average loss: 0.17397573439220151\n"
     ]
    },
    {
     "name": "stderr",
     "output_type": "stream",
     "text": [
      "Evaluation dev: 100%|████████████████████████████████████████████████████████████████| 243/243 [00:09<00:00, 26.11it/s]\n",
      "Train epoch 9:   0%|▎                                                                  | 4/910 [00:00<00:26, 33.90it/s]"
     ]
    },
    {
     "name": "stdout",
     "output_type": "stream",
     "text": [
      "                          precision    recall  fbeta_score  support\n",
      "Entity span      I-Loc     0.579268  0.281899     0.379242    337.0\n",
      "                 I-Peop    0.378378  0.124444     0.187291    225.0\n",
      "                 I-Org     0.347826  0.042105     0.075117    190.0\n",
      "                 I-Other   0.100000  0.016000     0.027586    125.0\n",
      "                 macro     0.351368  0.116112     0.167309      NaN\n",
      "                 micro     0.473310  0.151653     0.229706      NaN\n",
      "Entity embedding I-Loc     0.921569  0.196653     0.324138    717.0\n",
      "                 I-Peop    1.000000  0.103405     0.187429    793.0\n",
      "                 I-Org     0.800000  0.026774     0.051813    747.0\n",
      "                 I-Other   0.875000  0.039548     0.075676    354.0\n",
      "                 macro     0.899142  0.091595     0.159764      NaN\n",
      "                 micro     0.931159  0.098430     0.178039      NaN\n"
     ]
    },
    {
     "name": "stderr",
     "output_type": "stream",
     "text": [
      "Train epoch 9: 100%|█████████████████████████████████████████████████████████████████| 910/910 [00:27<00:00, 33.52it/s]\n"
     ]
    },
    {
     "name": "stdout",
     "output_type": "stream",
     "text": [
      "epoch: 9 average loss: 0.16851184367724173\n"
     ]
    },
    {
     "name": "stderr",
     "output_type": "stream",
     "text": [
      "Evaluation dev: 100%|████████████████████████████████████████████████████████████████| 243/243 [00:09<00:00, 25.54it/s]\n",
      "Train epoch 10:   0%|▏                                                                 | 3/910 [00:00<00:30, 29.41it/s]"
     ]
    },
    {
     "name": "stdout",
     "output_type": "stream",
     "text": [
      "                          precision    recall  fbeta_score  support\n",
      "Entity span      I-Loc     0.579545  0.302671     0.397661    337.0\n",
      "                 I-Peop    0.406977  0.155556     0.225080    225.0\n",
      "                 I-Org     0.322581  0.052632     0.090498    190.0\n",
      "                 I-Other   0.160000  0.032000     0.053333    125.0\n",
      "                 macro     0.367276  0.135714     0.191643      NaN\n",
      "                 micro     0.474843  0.172178     0.252720      NaN\n",
      "Entity embedding I-Loc     0.909639  0.210600     0.342016    717.0\n",
      "                 I-Peop    1.000000  0.119798     0.213964    793.0\n",
      "                 I-Org     0.806452  0.033467     0.064267    747.0\n",
      "                 I-Other   0.894737  0.048023     0.091153    354.0\n",
      "                 macro     0.902707  0.102972     0.177850      NaN\n",
      "                 micro     0.926045  0.110303     0.197125      NaN\n"
     ]
    },
    {
     "name": "stderr",
     "output_type": "stream",
     "text": [
      "Train epoch 10: 100%|████████████████████████████████████████████████████████████████| 910/910 [00:27<00:00, 33.50it/s]\n"
     ]
    },
    {
     "name": "stdout",
     "output_type": "stream",
     "text": [
      "epoch: 10 average loss: 0.1640515614260029\n"
     ]
    },
    {
     "name": "stderr",
     "output_type": "stream",
     "text": [
      "Evaluation dev: 100%|████████████████████████████████████████████████████████████████| 243/243 [00:09<00:00, 25.49it/s]\n",
      "Train epoch 11:   0%|▎                                                                 | 4/910 [00:00<00:26, 33.90it/s]"
     ]
    },
    {
     "name": "stdout",
     "output_type": "stream",
     "text": [
      "                          precision    recall  fbeta_score  support\n",
      "Entity span      I-Loc     0.588889  0.314540     0.410058    337.0\n",
      "                 I-Peop    0.400000  0.168889     0.237500    225.0\n",
      "                 I-Org     0.365854  0.078947     0.129870    190.0\n",
      "                 I-Other   0.160000  0.032000     0.053333    125.0\n",
      "                 macro     0.378686  0.148594     0.207690      NaN\n",
      "                 micro     0.478006  0.185861     0.267652      NaN\n",
      "Entity embedding I-Loc     0.902299  0.218968     0.352413    717.0\n",
      "                 I-Peop    0.990654  0.133670     0.235556    793.0\n",
      "                 I-Org     0.857143  0.048193     0.091255    747.0\n",
      "                 I-Other   0.894737  0.048023     0.091153    354.0\n",
      "                 macro     0.911208  0.112213     0.192594      NaN\n",
      "                 micro     0.923977  0.121026     0.214020      NaN\n"
     ]
    },
    {
     "name": "stderr",
     "output_type": "stream",
     "text": [
      "Train epoch 11: 100%|████████████████████████████████████████████████████████████████| 910/910 [00:27<00:00, 33.36it/s]\n"
     ]
    },
    {
     "name": "stdout",
     "output_type": "stream",
     "text": [
      "epoch: 11 average loss: 0.16037974679781186\n"
     ]
    },
    {
     "name": "stderr",
     "output_type": "stream",
     "text": [
      "Evaluation dev: 100%|████████████████████████████████████████████████████████████████| 243/243 [00:09<00:00, 25.73it/s]\n",
      "Train epoch 12:   0%|▎                                                                 | 4/910 [00:00<00:26, 34.19it/s]"
     ]
    },
    {
     "name": "stdout",
     "output_type": "stream",
     "text": [
      "                          precision    recall  fbeta_score  support\n",
      "Entity span      I-Loc     0.588542  0.335312     0.427221    337.0\n",
      "                 I-Peop    0.407767  0.186667     0.256098    225.0\n",
      "                 I-Org     0.357143  0.078947     0.129310    190.0\n",
      "                 I-Other   0.185185  0.040000     0.065789    125.0\n",
      "                 macro     0.384659  0.160231     0.219605      NaN\n",
      "                 micro     0.480769  0.199544     0.282031      NaN\n",
      "Entity embedding I-Loc     0.898396  0.234310     0.371681    717.0\n",
      "                 I-Peop    0.991870  0.153846     0.266376    793.0\n",
      "                 I-Org     0.863636  0.050870     0.096081    747.0\n",
      "                 I-Other   0.909091  0.056497     0.106383    354.0\n",
      "                 macro     0.915748  0.123881     0.210130      NaN\n",
      "                 micro     0.925532  0.133282     0.233010      NaN\n"
     ]
    },
    {
     "name": "stderr",
     "output_type": "stream",
     "text": [
      "Train epoch 12: 100%|████████████████████████████████████████████████████████████████| 910/910 [00:27<00:00, 33.20it/s]\n"
     ]
    },
    {
     "name": "stdout",
     "output_type": "stream",
     "text": [
      "epoch: 12 average loss: 0.15734779380343772\n"
     ]
    },
    {
     "name": "stderr",
     "output_type": "stream",
     "text": [
      "Evaluation dev: 100%|████████████████████████████████████████████████████████████████| 243/243 [00:09<00:00, 25.60it/s]\n",
      "Train epoch 13:   0%|▎                                                                 | 4/910 [00:00<00:28, 31.75it/s]"
     ]
    },
    {
     "name": "stdout",
     "output_type": "stream",
     "text": [
      "                          precision    recall  fbeta_score  support\n",
      "Entity span      I-Loc     0.582915  0.344214     0.432836    337.0\n",
      "                 I-Peop    0.420561  0.200000     0.271084    225.0\n",
      "                 I-Org     0.361702  0.089474     0.143460    190.0\n",
      "                 I-Other   0.178571  0.040000     0.065359    125.0\n",
      "                 macro     0.385937  0.168422     0.228185      NaN\n",
      "                 micro     0.480315  0.208666     0.290938      NaN\n",
      "Entity embedding I-Loc     0.885000  0.246862     0.386041    717.0\n",
      "                 I-Peop    0.992481  0.166456     0.285097    793.0\n",
      "                 I-Org     0.851064  0.053548     0.100756    747.0\n",
      "                 I-Other   0.916667  0.062147     0.116402    354.0\n",
      "                 macro     0.911303  0.132253     0.222074      NaN\n",
      "                 micro     0.918317  0.142091     0.246103      NaN\n"
     ]
    },
    {
     "name": "stderr",
     "output_type": "stream",
     "text": [
      "Train epoch 13: 100%|████████████████████████████████████████████████████████████████| 910/910 [00:27<00:00, 33.63it/s]\n"
     ]
    },
    {
     "name": "stdout",
     "output_type": "stream",
     "text": [
      "epoch: 13 average loss: 0.15484899889145579\n"
     ]
    },
    {
     "name": "stderr",
     "output_type": "stream",
     "text": [
      "Evaluation dev: 100%|████████████████████████████████████████████████████████████████| 243/243 [00:09<00:00, 25.51it/s]\n",
      "Train epoch 14:   0%|▎                                                                 | 4/910 [00:00<00:26, 34.19it/s]"
     ]
    },
    {
     "name": "stdout",
     "output_type": "stream",
     "text": [
      "                          precision    recall  fbeta_score  support\n",
      "Entity span      I-Loc     0.576355  0.347181     0.433333    337.0\n",
      "                 I-Peop    0.424779  0.213333     0.284024    225.0\n",
      "                 I-Org     0.365385  0.100000     0.157025    190.0\n",
      "                 I-Other   0.206897  0.048000     0.077922    125.0\n",
      "                 macro     0.393354  0.177129     0.238076      NaN\n",
      "                 micro     0.478589  0.216648     0.298273      NaN\n",
      "Entity embedding I-Loc     0.886700  0.251046     0.391304    717.0\n",
      "                 I-Peop    0.993056  0.180328     0.305229    793.0\n",
      "                 I-Org     0.862745  0.058902     0.110276    747.0\n",
      "                 I-Other   0.920000  0.064972     0.121372    354.0\n",
      "                 macro     0.915625  0.138812     0.232045      NaN\n",
      "                 micro     0.921986  0.149368     0.257086      NaN\n"
     ]
    },
    {
     "name": "stderr",
     "output_type": "stream",
     "text": [
      "Train epoch 14: 100%|████████████████████████████████████████████████████████████████| 910/910 [00:27<00:00, 33.46it/s]\n"
     ]
    },
    {
     "name": "stdout",
     "output_type": "stream",
     "text": [
      "epoch: 14 average loss: 0.15280348984831638\n"
     ]
    },
    {
     "name": "stderr",
     "output_type": "stream",
     "text": [
      "Evaluation dev: 100%|████████████████████████████████████████████████████████████████| 243/243 [00:09<00:00, 26.06it/s]\n",
      "Train epoch 15:   0%|▎                                                                 | 4/910 [00:00<00:28, 32.25it/s]"
     ]
    },
    {
     "name": "stdout",
     "output_type": "stream",
     "text": [
      "                          precision    recall  fbeta_score  support\n",
      "Entity span      I-Loc     0.574879  0.353116     0.437500    337.0\n",
      "                 I-Peop    0.429752  0.231111     0.300578    225.0\n",
      "                 I-Org     0.357143  0.105263     0.162602    190.0\n",
      "                 I-Other   0.206897  0.048000     0.077922    125.0\n",
      "                 macro     0.392168  0.184372     0.244650      NaN\n",
      "                 micro     0.476998  0.224629     0.305426      NaN\n",
      "Entity embedding I-Loc     0.887805  0.253835     0.394794    717.0\n",
      "                 I-Peop    0.993590  0.195460     0.326660    793.0\n",
      "                 I-Org     0.833333  0.060241     0.112360    747.0\n",
      "                 I-Other   0.920000  0.064972     0.121372    354.0\n",
      "                 macro     0.908682  0.143627     0.238796      NaN\n",
      "                 micro     0.920455  0.155113     0.265487      NaN\n"
     ]
    },
    {
     "name": "stderr",
     "output_type": "stream",
     "text": [
      "Train epoch 15: 100%|████████████████████████████████████████████████████████████████| 910/910 [00:27<00:00, 33.39it/s]\n"
     ]
    },
    {
     "name": "stdout",
     "output_type": "stream",
     "text": [
      "epoch: 15 average loss: 0.1511511467233464\n"
     ]
    },
    {
     "name": "stderr",
     "output_type": "stream",
     "text": [
      "Evaluation dev: 100%|████████████████████████████████████████████████████████████████| 243/243 [00:09<00:00, 25.95it/s]\n",
      "Train epoch 16:   0%|▎                                                                 | 4/910 [00:00<00:28, 32.26it/s]"
     ]
    },
    {
     "name": "stdout",
     "output_type": "stream",
     "text": [
      "                          precision    recall  fbeta_score  support\n",
      "Entity span      I-Loc     0.582160  0.367953     0.450909    337.0\n",
      "                 I-Peop    0.434426  0.235556     0.305476    225.0\n",
      "                 I-Org     0.350000  0.110526     0.168000    190.0\n",
      "                 I-Other   0.206897  0.048000     0.077922    125.0\n",
      "                 macro     0.393371  0.190509     0.250577      NaN\n",
      "                 micro     0.481132  0.232611     0.313605      NaN\n",
      "Entity embedding I-Loc     0.890476  0.260809     0.403452    717.0\n",
      "                 I-Peop    0.993631  0.196721     0.328421    793.0\n",
      "                 I-Org     0.842105  0.064257     0.119403    747.0\n",
      "                 I-Other   0.920000  0.064972     0.121372    354.0\n",
      "                 macro     0.911553  0.146690     0.243162      NaN\n",
      "                 micro     0.922049  0.158560     0.270588      NaN\n"
     ]
    },
    {
     "name": "stderr",
     "output_type": "stream",
     "text": [
      "Train epoch 16: 100%|████████████████████████████████████████████████████████████████| 910/910 [00:27<00:00, 33.31it/s]\n"
     ]
    },
    {
     "name": "stdout",
     "output_type": "stream",
     "text": [
      "epoch: 16 average loss: 0.14984954985697846\n"
     ]
    },
    {
     "name": "stderr",
     "output_type": "stream",
     "text": [
      "Evaluation dev: 100%|████████████████████████████████████████████████████████████████| 243/243 [00:09<00:00, 25.55it/s]\n",
      "Train epoch 17:   0%|▎                                                                 | 4/910 [00:00<00:28, 32.00it/s]"
     ]
    },
    {
     "name": "stdout",
     "output_type": "stream",
     "text": [
      "                          precision    recall  fbeta_score  support\n",
      "Entity span      I-Loc     0.582160  0.367953     0.450909    337.0\n",
      "                 I-Peop    0.434426  0.235556     0.305476    225.0\n",
      "                 I-Org     0.338710  0.110526     0.166667    190.0\n",
      "                 I-Other   0.206897  0.048000     0.077922    125.0\n",
      "                 macro     0.390548  0.190509     0.250243      NaN\n",
      "                 micro     0.478873  0.232611     0.313124      NaN\n",
      "Entity embedding I-Loc     0.890476  0.260809     0.403452    717.0\n",
      "                 I-Peop    0.993631  0.196721     0.328421    793.0\n",
      "                 I-Org     0.844828  0.065596     0.121739    747.0\n",
      "                 I-Other   0.920000  0.064972     0.121372    354.0\n",
      "                 macro     0.912234  0.147024     0.243746      NaN\n",
      "                 micro     0.922222  0.158943     0.271153      NaN\n"
     ]
    },
    {
     "name": "stderr",
     "output_type": "stream",
     "text": [
      "Train epoch 17: 100%|████████████████████████████████████████████████████████████████| 910/910 [00:27<00:00, 33.34it/s]\n"
     ]
    },
    {
     "name": "stdout",
     "output_type": "stream",
     "text": [
      "epoch: 17 average loss: 0.14886570802101723\n"
     ]
    },
    {
     "name": "stderr",
     "output_type": "stream",
     "text": [
      "Evaluation dev: 100%|████████████████████████████████████████████████████████████████| 243/243 [00:09<00:00, 26.05it/s]\n",
      "Train epoch 18:   0%|▎                                                                 | 4/910 [00:00<00:26, 33.89it/s]"
     ]
    },
    {
     "name": "stdout",
     "output_type": "stream",
     "text": [
      "                          precision    recall  fbeta_score  support\n",
      "Entity span      I-Loc     0.581395  0.370920     0.452899    337.0\n",
      "                 I-Peop    0.434426  0.235556     0.305476    225.0\n",
      "                 I-Org     0.333333  0.110526     0.166008    190.0\n",
      "                 I-Other   0.206897  0.048000     0.077922    125.0\n",
      "                 macro     0.389013  0.191250     0.250576      NaN\n",
      "                 micro     0.477855  0.233751     0.313936      NaN\n",
      "Entity embedding I-Loc     0.890995  0.262204     0.405172    717.0\n",
      "                 I-Peop    0.993631  0.196721     0.328421    793.0\n",
      "                 I-Org     0.844828  0.065596     0.121739    747.0\n",
      "                 I-Other   0.916667  0.062147     0.116402    354.0\n",
      "                 macro     0.911530  0.146667     0.242934      NaN\n",
      "                 micro     0.922222  0.158943     0.271153      NaN\n"
     ]
    },
    {
     "name": "stderr",
     "output_type": "stream",
     "text": [
      "Train epoch 18: 100%|████████████████████████████████████████████████████████████████| 910/910 [00:27<00:00, 33.25it/s]\n"
     ]
    },
    {
     "name": "stdout",
     "output_type": "stream",
     "text": [
      "epoch: 18 average loss: 0.14817599429042785\n"
     ]
    },
    {
     "name": "stderr",
     "output_type": "stream",
     "text": [
      "Evaluation dev: 100%|████████████████████████████████████████████████████████████████| 243/243 [00:09<00:00, 25.43it/s]\n",
      "Train epoch 19:   0%|▎                                                                 | 4/910 [00:00<00:26, 33.61it/s]"
     ]
    },
    {
     "name": "stdout",
     "output_type": "stream",
     "text": [
      "                          precision    recall  fbeta_score  support\n",
      "Entity span      I-Loc     0.584112  0.370920     0.453721    337.0\n",
      "                 I-Peop    0.449153  0.235556     0.309038    225.0\n",
      "                 I-Org     0.338710  0.110526     0.166667    190.0\n",
      "                 I-Other   0.214286  0.048000     0.078431    125.0\n",
      "                 macro     0.396565  0.191250     0.251964      NaN\n",
      "                 micro     0.485782  0.233751     0.315627      NaN\n",
      "Entity embedding I-Loc     0.890995  0.262204     0.405172    717.0\n",
      "                 I-Peop    0.993631  0.196721     0.328421    793.0\n",
      "                 I-Org     0.842105  0.064257     0.119403    747.0\n",
      "                 I-Other   0.913043  0.059322     0.111406    354.0\n",
      "                 macro     0.909944  0.145626     0.241101      NaN\n",
      "                 micro     0.921875  0.158177     0.270023      NaN\n"
     ]
    },
    {
     "name": "stderr",
     "output_type": "stream",
     "text": [
      "Train epoch 19: 100%|████████████████████████████████████████████████████████████████| 910/910 [00:27<00:00, 33.29it/s]\n"
     ]
    },
    {
     "name": "stdout",
     "output_type": "stream",
     "text": [
      "epoch: 19 average loss: 0.14776028453648746\n"
     ]
    },
    {
     "name": "stderr",
     "output_type": "stream",
     "text": [
      "Evaluation dev: 100%|████████████████████████████████████████████████████████████████| 243/243 [00:09<00:00, 25.93it/s]\n"
     ]
    },
    {
     "name": "stdout",
     "output_type": "stream",
     "text": [
      "                          precision    recall  fbeta_score  support\n",
      "Entity span      I-Loc     0.588785  0.373887     0.457350    337.0\n",
      "                 I-Peop    0.443478  0.226667     0.300000    225.0\n",
      "                 I-Org     0.338710  0.110526     0.166667    190.0\n",
      "                 I-Other   0.214286  0.048000     0.078431    125.0\n",
      "                 macro     0.396315  0.189770     0.250612      NaN\n",
      "                 micro     0.486874  0.232611     0.314815      NaN\n",
      "Entity embedding I-Loc     0.891509  0.263598     0.406889    717.0\n",
      "                 I-Peop    0.993506  0.192938     0.323126    793.0\n",
      "                 I-Org     0.842105  0.064257     0.119403    747.0\n",
      "                 I-Other   0.913043  0.059322     0.111406    354.0\n",
      "                 macro     0.910041  0.145029     0.240206      NaN\n",
      "                 micro     0.921525  0.157411     0.268891      NaN\n"
     ]
    }
   ],
   "source": [
    "train()"
   ]
  },
  {
   "cell_type": "code",
   "execution_count": 16,
   "id": "automotive-swing",
   "metadata": {},
   "outputs": [
    {
     "name": "stderr",
     "output_type": "stream",
     "text": [
      "Some weights of the model checkpoint at bert-base-cased were not used when initializing SpERT: ['cls.predictions.bias', 'cls.predictions.transform.dense.weight', 'cls.predictions.transform.dense.bias', 'cls.predictions.decoder.weight', 'cls.seq_relationship.weight', 'cls.seq_relationship.bias', 'cls.predictions.transform.LayerNorm.weight', 'cls.predictions.transform.LayerNorm.bias']\n",
      "- This IS expected if you are initializing SpERT from the checkpoint of a model trained on another task or with another architecture (e.g. initializing a BertForSequenceClassification model from a BertForPreTraining model).\n",
      "- This IS NOT expected if you are initializing SpERT from the checkpoint of a model that you expect to be exactly identical (initializing a BertForSequenceClassification model from a BertForSequenceClassification model).\n",
      "Some weights of SpERT were not initialized from the model checkpoint at bert-base-cased and are newly initialized: ['relation_classifier.weight', 'relation_classifier.bias', 'entity_classifier.weight', 'entity_classifier.bias', 'width_embedding.weight']\n",
      "You should probably TRAIN this model on a down-stream task to be able to use it for predictions and inference.\n"
     ]
    },
    {
     "data": {
      "text/plain": [
       "_IncompatibleKeys(missing_keys=['bert.embeddings.position_ids'], unexpected_keys=['rel_classifier.weight', 'rel_classifier.bias', 'size_embeddings.weight'])"
      ]
     },
     "execution_count": 16,
     "metadata": {},
     "output_type": "execute_result"
    }
   ],
   "source": [
    "config = BertConfig.from_pretrained(constants.model_path)\n",
    "spert_model = model.SpERT.from_pretrained(constants.model_path,\n",
    "                                          # SpERT model parameters\n",
    "                                          relation_types=constants.relation_types, \n",
    "                                          entity_types=constants.entity_types, \n",
    "                                          width_embedding_size=constants.width_embedding_size, \n",
    "                                          prop_drop=constants.prop_drop, \n",
    "                                          freeze_transformer=True, \n",
    "                                          max_pairs=constants.max_pairs, \n",
    "                                          is_overlapping=False, \n",
    "                                          relation_filter_threshold=constants.relation_filter_threshold)\n",
    "spert_model.to(device)\n",
    "# state_dict = torch.load(model_save_path + \"epoch_\" + str(constants.epochs-1) + \".model\")\n",
    "state_dict = torch.load(\"../../model/spert/pytorch_model.bin\")\n",
    "state_dict[\"relation_classifier.weight\"] = state_dict[\"rel_classifier.weight\"]\n",
    "state_dict[\"relation_classifier.bias\"] = state_dict[\"rel_classifier.bias\"]\n",
    "state_dict[\"width_embedding.weight\"] = state_dict[\"size_embeddings.weight\"]\n",
    "spert_model.load_state_dict(state_dict, strict=False)"
   ]
  },
  {
   "cell_type": "code",
   "execution_count": 17,
   "id": "martial-cannon",
   "metadata": {},
   "outputs": [
    {
     "name": "stderr",
     "output_type": "stream",
     "text": [
      "Evaluation test: 100%|███████████████████████████████████████████████████████████████| 288/288 [00:12<00:00, 23.24it/s]\n"
     ]
    },
    {
     "name": "stdout",
     "output_type": "stream",
     "text": [
      "                          precision    recall  fbeta_score  support\n",
      "Entity span      I-Loc     0.422505  0.932084     0.581446    427.0\n",
      "                 I-Peop    0.000000  0.000000     0.000000    321.0\n",
      "                 I-Org     0.001401  0.005051     0.002193    198.0\n",
      "                 I-Other   0.531579  0.759398     0.625387    133.0\n",
      "                 macro     0.238871  0.424133     0.302257      NaN\n",
      "                 micro     0.226552  0.463392     0.304321      NaN\n",
      "Entity embedding I-Loc     0.946203  0.929534     0.937794    965.0\n",
      "                 I-Peop    0.004144  0.002671     0.003249   1123.0\n",
      "                 I-Org     0.002655  0.004172     0.003245    719.0\n",
      "                 I-Other   0.819767  0.834320     0.826979    338.0\n",
      "                 macro     0.443192  0.442674     0.442817      NaN\n",
      "                 micro     0.376669  0.376789     0.376729      NaN\n"
     ]
    }
   ],
   "source": [
    "evaluate(spert_model, \"test\")"
   ]
  },
  {
   "cell_type": "code",
   "execution_count": null,
   "id": "complex-deposit",
   "metadata": {},
   "outputs": [],
   "source": []
  }
 ],
 "metadata": {
  "kernelspec": {
   "display_name": "Python 3",
   "language": "python",
   "name": "python3"
  },
  "language_info": {
   "codemirror_mode": {
    "name": "ipython",
    "version": 3
   },
   "file_extension": ".py",
   "mimetype": "text/x-python",
   "name": "python",
   "nbconvert_exporter": "python",
   "pygments_lexer": "ipython3",
   "version": "3.6.12"
  }
 },
 "nbformat": 4,
 "nbformat_minor": 5
}
