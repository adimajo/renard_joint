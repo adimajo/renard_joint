{
 "cells": [
  {
   "cell_type": "code",
   "execution_count": null,
   "id": "sublime-trustee",
   "metadata": {},
   "outputs": [],
   "source": [
    "# https://cogcomp.seas.upenn.edu/Data/ER/conll04.corp"
   ]
  },
  {
   "cell_type": "code",
   "execution_count": 1,
   "id": "advisory-memorabilia",
   "metadata": {},
   "outputs": [],
   "source": [
    "import os\n",
    "import json\n",
    "import numpy as np\n",
    "import pandas as pd\n",
    "import matplotlib.pyplot as plt\n",
    "import seaborn as sns"
   ]
  },
  {
   "cell_type": "code",
   "execution_count": 2,
   "id": "exciting-habitat",
   "metadata": {},
   "outputs": [],
   "source": [
    "from transformers import BertTokenizer\n",
    "import torch\n",
    "tokenizer = BertTokenizer.from_pretrained('bert-base-uncased')"
   ]
  },
  {
   "cell_type": "code",
   "execution_count": 3,
   "id": "demanding-gauge",
   "metadata": {},
   "outputs": [],
   "source": [
    "# Constants\n",
    "TRAIN_PATH = \"../data/CoNLL04/train.txt\"\n",
    "DEV_PATH = \"../data/CoNLL04/dev.txt\"\n",
    "TEST_PATH = \"../data/CoNLL04/test.txt\"\n",
    "UNK_TOKEN = 100\n",
    "CLS_TOKEN = 101\n",
    "SEP_TOKEN = 102"
   ]
  },
  {
   "cell_type": "code",
   "execution_count": 4,
   "id": "governing-survival",
   "metadata": {},
   "outputs": [],
   "source": [
    "entity_encode = {'O': 0, 'B-Loc': 1, 'I-Loc': 2, 'B-Peop': 3, 'I-Peop': 4, \n",
    "                 'B-Org': 5, 'I-Org': 6, 'B-Other': 7, 'I-Other': 8}\n",
    "relation_encode = {'N': 0, 'Kill': 1, 'Located_In': 2, 'OrgBased_In': 3,\n",
    "                   'Live_In': 4, 'Work_For': 5}"
   ]
  },
  {
   "cell_type": "code",
   "execution_count": 5,
   "id": "funded-grocery",
   "metadata": {},
   "outputs": [],
   "source": [
    "# Getters\n",
    "def get_docs(group):\n",
    "    \"\"\"Read the dataset group and return a list of documents\n",
    "    'group' is either \"train\", \"dev\", or \"test\"\n",
    "    \"\"\"\n",
    "    dataset = None\n",
    "    if group == \"train\":\n",
    "        dataset = open(TRAIN_PATH, \"r\", encoding=\"utf8\").readlines()\n",
    "    elif group == \"dev\":\n",
    "        dataset = open(DEV_PATH, \"r\", encoding=\"utf8\").readlines()\n",
    "    elif group == \"test\":\n",
    "        dataset = open(TEST_PATH, \"r\", encoding=\"utf8\").readlines()\n",
    "    else:\n",
    "        print(\"No '\", group, \"' data group found!\")\n",
    "        return []\n",
    "    docs = []\n",
    "    for line in dataset:\n",
    "        if line.startswith(\"#\"):\n",
    "            docs.append([])\n",
    "        docs[-1].append(line)\n",
    "    return docs"
   ]
  },
  {
   "cell_type": "code",
   "execution_count": 6,
   "id": "second-metadata",
   "metadata": {},
   "outputs": [],
   "source": [
    "def check_doc(document):\n",
    "    \"\"\"Check if the data in the document is consistent\"\"\"\n",
    "    try:\n",
    "        assert document[0].startswith(\"#doc \")\n",
    "    except AssertionError:\n",
    "        print(\"The document does not start with '#doc' but instead\", document[0])\n",
    "    doc_id = document[0].split()[1]\n",
    "    for i in range(1, len(document)):\n",
    "        line = document[i]\n",
    "        try:\n",
    "            assert int(line.split()[0]) == i - 1\n",
    "        except (ValueError, AssertionError):\n",
    "            print(\"Document\", doc_id, \"line\", i, \":\", line, \"expect line index\", \n",
    "                  i - 1, \", found\", line.split()[0])\n",
    "\n",
    "def check_docs(group):\n",
    "    \"\"\"Check if all the documents contained in the data group is consistent\n",
    "    'group' is either \"train\", \"dev\", or \"test\"\n",
    "    \"\"\"\n",
    "    docs = get_docs(group)\n",
    "    for document in docs:\n",
    "        check_doc(document)"
   ]
  },
  {
   "cell_type": "code",
   "execution_count": 7,
   "id": "tired-wales",
   "metadata": {
    "scrolled": true
   },
   "outputs": [],
   "source": [
    "def check_data():\n",
    "    \"\"\"Check if the everything in the dataset is consistent\n",
    "    Refer to check_docs(group) and check_doc(document)\n",
    "    \"\"\"\n",
    "    check_docs(\"train\")\n",
    "    check_docs(\"dev\")\n",
    "    check_docs(\"test\")"
   ]
  },
  {
   "cell_type": "code",
   "execution_count": 8,
   "id": "hybrid-bridge",
   "metadata": {
    "scrolled": true
   },
   "outputs": [],
   "source": [
    "# check_data()"
   ]
  },
  {
   "cell_type": "code",
   "execution_count": 9,
   "id": "sudden-diagnosis",
   "metadata": {},
   "outputs": [],
   "source": [
    "def describe_list(lst, name):\n",
    "    \"\"\"Show the properties of the given sequence\"\"\"\n",
    "    print(\"Description of\", name, \":\")\n",
    "    print(\"Count:\", len(lst))\n",
    "    print(\"Sum:\", sum(lst))\n",
    "    print(\"Min:\", min(lst))\n",
    "    print(\"Mean:\", sum(lst) / len(lst))\n",
    "    print(\"Max:\", max(lst))\n",
    "    sns.distplot(lst, axlabel=name)\n",
    "    plt.show()\n",
    "    print()"
   ]
  },
  {
   "cell_type": "code",
   "execution_count": 10,
   "id": "rocky-invention",
   "metadata": {},
   "outputs": [],
   "source": [
    "def get_text_length_doc(document):\n",
    "    \"\"\"Get the length of a document\"\"\"\n",
    "    return len(document) - 1"
   ]
  },
  {
   "cell_type": "code",
   "execution_count": 11,
   "id": "controlling-tracker",
   "metadata": {},
   "outputs": [],
   "source": [
    "def describe_text_length(group):\n",
    "    \"\"\"Show information about the length of documents in the dataset group\"\"\"\n",
    "    lengths = []\n",
    "    docs = get_docs(group)\n",
    "    for document in docs:\n",
    "        lengths.append(get_text_length_doc(document))\n",
    "    describe_list(lengths, \"document lengths of \" + group)"
   ]
  },
  {
   "cell_type": "code",
   "execution_count": 12,
   "id": "blocked-athens",
   "metadata": {},
   "outputs": [],
   "source": [
    "# describe_text_length(\"train\")\n",
    "# describe_text_length(\"dev\")\n",
    "# describe_text_length(\"test\")"
   ]
  },
  {
   "cell_type": "code",
   "execution_count": 13,
   "id": "alpha-compact",
   "metadata": {},
   "outputs": [],
   "source": [
    "def split_line(line):\n",
    "    \"\"\"Split a line in the following format from the dataset\n",
    "    index word entity_type ['relation_type_1', ...] ['target_entity_1', ...]\n",
    "    \"\"\"\n",
    "    index, word, entity_type, rest = tuple(line.split(maxsplit=3))\n",
    "    rt, te = tuple(rest.split(\"]\", 1))\n",
    "    relation_types = [item.strip(\"\\r\\n\\t []'\") for item in rt.split(\",\")]\n",
    "    target_entities = [int(item.strip(\"\\r\\n\\t []'\")) for item in te.split(\",\")]\n",
    "    assert len(relation_types) == len(target_entities)\n",
    "    return index, word, entity_type, relation_types, target_entities"
   ]
  },
  {
   "cell_type": "code",
   "execution_count": 14,
   "id": "unable-amount",
   "metadata": {},
   "outputs": [],
   "source": [
    "def count_entity_doc(document):\n",
    "    \"\"\"Count the number of each type of entity in a document\"\"\"\n",
    "    count = {}\n",
    "    for line in document[1:]:\n",
    "        _, _, entity_type, _, _ = split_line(line)\n",
    "        if entity_type in count:\n",
    "            count[entity_type] += 1\n",
    "        else:\n",
    "            count[entity_type] = 1\n",
    "    return count"
   ]
  },
  {
   "cell_type": "code",
   "execution_count": 15,
   "id": "golden-scale",
   "metadata": {},
   "outputs": [],
   "source": [
    "def count_relation_doc(document):\n",
    "    \"\"\"Count the number of each type of entity in a document\"\"\"\n",
    "    count = {}\n",
    "    for line in document[1:]:\n",
    "        _, _, _, relation_types, _ = split_line(line)\n",
    "        for relation in relation_types:\n",
    "            if relation in count:\n",
    "                count[relation] += 1\n",
    "            else:\n",
    "                count[relation] = 1\n",
    "    return count"
   ]
  },
  {
   "cell_type": "code",
   "execution_count": 16,
   "id": "relevant-genius",
   "metadata": {},
   "outputs": [],
   "source": [
    "def describe_type(group, type_counter, describe=True):\n",
    "    \"\"\"Describe the types of a property in the dataset\"\"\"\n",
    "    docs = get_docs(group)\n",
    "    count = {}\n",
    "    for document in docs:\n",
    "        cnt = type_counter(document)\n",
    "        for key in cnt:\n",
    "            if key not in count:\n",
    "                count[key] = cnt[key]\n",
    "            else:\n",
    "                count[key] += cnt[key]\n",
    "    if describe:\n",
    "        print(\"Description of type in\", group)\n",
    "        print(\"Total:\", sum(count.values()))\n",
    "        for key in count:\n",
    "            print(key, \":\", count[key])\n",
    "        sns.barplot(list(count.values()), list(count.keys()))\n",
    "        plt.show()\n",
    "    # Return a map from entities to corresponding encoding numbers\n",
    "    return dict(zip(count.keys(), range(len(count))))"
   ]
  },
  {
   "cell_type": "code",
   "execution_count": 17,
   "id": "stupid-mining",
   "metadata": {},
   "outputs": [],
   "source": [
    "# entity_encode = describe_type(\"train\", count_entity_doc)\n",
    "# describe_type(\"dev\", count_entity_doc)\n",
    "# describe_type(\"test\", count_entity_doc)"
   ]
  },
  {
   "cell_type": "code",
   "execution_count": 18,
   "id": "aging-luxury",
   "metadata": {},
   "outputs": [],
   "source": [
    "# relation_encode = describe_type(\"train\", count_relation_doc)\n",
    "# describe_type(\"dev\", count_relation_doc)\n",
    "# describe_type(\"test\", count_relation_doc)"
   ]
  },
  {
   "cell_type": "code",
   "execution_count": 19,
   "id": "cleared-century",
   "metadata": {},
   "outputs": [],
   "source": [
    "def describe_data():\n",
    "    print(\"Description of train dataset:\")\n",
    "    describe_text_length(\"train\")\n",
    "    describe_type(\"train\", count_entity_doc)\n",
    "    describe_type(\"train\", count_relation_doc)\n",
    "    print(\"---------------------------------------------------------------------------------\")\n",
    "    print(\"Description of dev dataset:\")\n",
    "    describe_text_length(\"dev\")\n",
    "    describe_type(\"dev\", count_entity_doc)\n",
    "    describe_type(\"dev\", count_relation_doc)\n",
    "    print(\"---------------------------------------------------------------------------------\")\n",
    "    print(\"Description of test dataset:\")\n",
    "    describe_text_length(\"test\")\n",
    "    describe_type(\"test\", count_entity_doc)\n",
    "    describe_type(\"test\", count_relation_doc)\n",
    "    print(\"---------------------------------------------------------------------------------\")"
   ]
  },
  {
   "cell_type": "code",
   "execution_count": 20,
   "id": "helpful-wellington",
   "metadata": {},
   "outputs": [
    {
     "name": "stdout",
     "output_type": "stream",
     "text": [
      "Description of train dataset:\n",
      "Description of document lengths of train :\n",
      "Count: 910\n",
      "Sum: 26804\n",
      "Min: 2\n",
      "Mean: 29.454945054945053\n",
      "Max: 113\n"
     ]
    },
    {
     "name": "stderr",
     "output_type": "stream",
     "text": [
      "C:\\Users\\Public\\Anaconda3\\envs\\work\\lib\\site-packages\\seaborn\\distributions.py:2557: FutureWarning: `distplot` is a deprecated function and will be removed in a future version. Please adapt your code to use either `displot` (a figure-level function with similar flexibility) or `histplot` (an axes-level function for histograms).\n",
      "  warnings.warn(msg, FutureWarning)\n"
     ]
    },
    {
     "data": {
      "image/png": "[encoded data removed]",
      "text/plain": [
       "<Figure size 432x288 with 1 Axes>"
      ]
     },
     "metadata": {
      "needs_background": "light"
     },
     "output_type": "display_data"
    },
    {
     "name": "stdout",
     "output_type": "stream",
     "text": [
      "\n",
      "Description of type in train\n",
      "Total: 26804\n",
      "O : 20503\n",
      "B-Loc : 1203\n",
      "I-Loc : 621\n",
      "B-Peop : 1145\n",
      "I-Peop : 1206\n",
      "B-Org : 595\n",
      "I-Org : 714\n",
      "B-Other : 448\n",
      "I-Other : 369\n"
     ]
    },
    {
     "name": "stderr",
     "output_type": "stream",
     "text": [
      "C:\\Users\\Public\\Anaconda3\\envs\\work\\lib\\site-packages\\seaborn\\_decorators.py:36: FutureWarning: Pass the following variables as keyword args: x, y. From version 0.12, the only valid positional argument will be `data`, and passing other arguments without an explicit keyword will result in an error or misinterpretation.\n",
      "  warnings.warn(\n"
     ]
    },
    {
     "data": {
      "image/png": "[encoded data removed]",
      "text/plain": [
       "<Figure size 432x288 with 1 Axes>"
      ]
     },
     "metadata": {
      "needs_background": "light"
     },
     "output_type": "display_data"
    },
    {
     "name": "stdout",
     "output_type": "stream",
     "text": [
      "Description of type in train\n",
      "Total: 26959\n",
      "N : 25686\n",
      "Located_In : 245\n",
      "Work_For : 242\n",
      "Live_In : 342\n",
      "OrgBased_In : 241\n",
      "Kill : 203\n"
     ]
    },
    {
     "name": "stderr",
     "output_type": "stream",
     "text": [
      "C:\\Users\\Public\\Anaconda3\\envs\\work\\lib\\site-packages\\seaborn\\_decorators.py:36: FutureWarning: Pass the following variables as keyword args: x, y. From version 0.12, the only valid positional argument will be `data`, and passing other arguments without an explicit keyword will result in an error or misinterpretation.\n",
      "  warnings.warn(\n"
     ]
    },
    {
     "data": {
      "image/png": "[encoded data removed]",
      "text/plain": [
       "<Figure size 432x288 with 1 Axes>"
      ]
     },
     "metadata": {
      "needs_background": "light"
     },
     "output_type": "display_data"
    },
    {
     "name": "stdout",
     "output_type": "stream",
     "text": [
      "---------------------------------------------------------------------------------\n",
      "Description of dev dataset:\n",
      "Description of document lengths of dev :\n",
      "Count: 243\n",
      "Sum: 6975\n",
      "Min: 2\n",
      "Mean: 28.703703703703702\n",
      "Max: 114\n"
     ]
    },
    {
     "name": "stderr",
     "output_type": "stream",
     "text": [
      "C:\\Users\\Public\\Anaconda3\\envs\\work\\lib\\site-packages\\seaborn\\distributions.py:2557: FutureWarning: `distplot` is a deprecated function and will be removed in a future version. Please adapt your code to use either `displot` (a figure-level function with similar flexibility) or `histplot` (an axes-level function for histograms).\n",
      "  warnings.warn(msg, FutureWarning)\n"
     ]
    },
    {
     "data": {
      "image/png": "[encoded data removed]",
      "text/plain": [
       "<Figure size 432x288 with 1 Axes>"
      ]
     },
     "metadata": {
      "needs_background": "light"
     },
     "output_type": "display_data"
    },
    {
     "name": "stdout",
     "output_type": "stream",
     "text": [
      "\n",
      "Description of type in dev\n",
      "Total: 6975\n",
      "O : 5355\n",
      "B-Peop : 225\n",
      "I-Peop : 231\n",
      "B-Org : 190\n",
      "I-Org : 241\n",
      "B-Loc : 337\n",
      "I-Loc : 124\n",
      "B-Other : 125\n",
      "I-Other : 147\n"
     ]
    },
    {
     "name": "stderr",
     "output_type": "stream",
     "text": [
      "C:\\Users\\Public\\Anaconda3\\envs\\work\\lib\\site-packages\\seaborn\\_decorators.py:36: FutureWarning: Pass the following variables as keyword args: x, y. From version 0.12, the only valid positional argument will be `data`, and passing other arguments without an explicit keyword will result in an error or misinterpretation.\n",
      "  warnings.warn(\n"
     ]
    },
    {
     "data": {
      "image/png": "[encoded data removed]",
      "text/plain": [
       "<Figure size 432x288 with 1 Axes>"
      ]
     },
     "metadata": {
      "needs_background": "light"
     },
     "output_type": "display_data"
    },
    {
     "name": "stdout",
     "output_type": "stream",
     "text": [
      "Description of type in dev\n",
      "Total: 7019\n",
      "N : 6666\n",
      "Work_For : 83\n",
      "Live_In : 79\n",
      "Located_In : 67\n",
      "OrgBased_In : 106\n",
      "Kill : 18\n"
     ]
    },
    {
     "name": "stderr",
     "output_type": "stream",
     "text": [
      "C:\\Users\\Public\\Anaconda3\\envs\\work\\lib\\site-packages\\seaborn\\_decorators.py:36: FutureWarning: Pass the following variables as keyword args: x, y. From version 0.12, the only valid positional argument will be `data`, and passing other arguments without an explicit keyword will result in an error or misinterpretation.\n",
      "  warnings.warn(\n"
     ]
    },
    {
     "data": {
      "image/png": "[encoded data removed]",
      "text/plain": [
       "<Figure size 432x288 with 1 Axes>"
      ]
     },
     "metadata": {
      "needs_background": "light"
     },
     "output_type": "display_data"
    },
    {
     "name": "stdout",
     "output_type": "stream",
     "text": [
      "---------------------------------------------------------------------------------\n",
      "Description of test dataset:\n",
      "Description of document lengths of test :\n",
      "Count: 288\n",
      "Sum: 8408\n",
      "Min: 2\n",
      "Mean: 29.194444444444443\n",
      "Max: 119\n"
     ]
    },
    {
     "name": "stderr",
     "output_type": "stream",
     "text": [
      "C:\\Users\\Public\\Anaconda3\\envs\\work\\lib\\site-packages\\seaborn\\distributions.py:2557: FutureWarning: `distplot` is a deprecated function and will be removed in a future version. Please adapt your code to use either `displot` (a figure-level function with similar flexibility) or `histplot` (an axes-level function for histograms).\n",
      "  warnings.warn(msg, FutureWarning)\n"
     ]
    },
    {
     "data": {
      "image/png": "[encoded data removed]",
      "text/plain": [
       "<Figure size 432x288 with 1 Axes>"
      ]
     },
     "metadata": {
      "needs_background": "light"
     },
     "output_type": "display_data"
    },
    {
     "name": "stdout",
     "output_type": "stream",
     "text": [
      "\n",
      "Description of type in test\n",
      "Total: 8408\n",
      "O : 6384\n",
      "B-Other : 133\n",
      "B-Org : 198\n",
      "I-Org : 241\n",
      "B-Loc : 427\n",
      "B-Peop : 321\n",
      "I-Peop : 369\n",
      "I-Other : 130\n",
      "I-Loc : 205\n"
     ]
    },
    {
     "name": "stderr",
     "output_type": "stream",
     "text": [
      "C:\\Users\\Public\\Anaconda3\\envs\\work\\lib\\site-packages\\seaborn\\_decorators.py:36: FutureWarning: Pass the following variables as keyword args: x, y. From version 0.12, the only valid positional argument will be `data`, and passing other arguments without an explicit keyword will result in an error or misinterpretation.\n",
      "  warnings.warn(\n"
     ]
    },
    {
     "data": {
      "image/png": "[encoded data removed]",
      "text/plain": [
       "<Figure size 432x288 with 1 Axes>"
      ]
     },
     "metadata": {
      "needs_background": "light"
     },
     "output_type": "display_data"
    },
    {
     "name": "stdout",
     "output_type": "stream",
     "text": [
      "Description of type in test\n",
      "Total: 8462\n",
      "N : 8040\n",
      "Kill : 47\n",
      "Located_In : 94\n",
      "OrgBased_In : 105\n",
      "Live_In : 100\n",
      "Work_For : 76\n"
     ]
    },
    {
     "name": "stderr",
     "output_type": "stream",
     "text": [
      "C:\\Users\\Public\\Anaconda3\\envs\\work\\lib\\site-packages\\seaborn\\_decorators.py:36: FutureWarning: Pass the following variables as keyword args: x, y. From version 0.12, the only valid positional argument will be `data`, and passing other arguments without an explicit keyword will result in an error or misinterpretation.\n",
      "  warnings.warn(\n"
     ]
    },
    {
     "data": {
      "image/png": "[encoded data removed]",
      "text/plain": [
       "<Figure size 432x288 with 1 Axes>"
      ]
     },
     "metadata": {
      "needs_background": "light"
     },
     "output_type": "display_data"
    },
    {
     "name": "stdout",
     "output_type": "stream",
     "text": [
      "---------------------------------------------------------------------------------\n"
     ]
    }
   ],
   "source": [
    "describe_data()"
   ]
  },
  {
   "cell_type": "code",
   "execution_count": 21,
   "id": "relative-keyboard",
   "metadata": {},
   "outputs": [],
   "source": [
    "def get_token_id(words):\n",
    "    \"\"\"Tokenize each word in a list of words\n",
    "    Return a list of lists of token ids\n",
    "    \"\"\"\n",
    "    token_id = []\n",
    "    for word in words:\n",
    "        # apply [1:-1] to remore CLS and SEP token ids at the begin and the end of the list\n",
    "        token_id.append(tokenizer(word)[\"input_ids\"][1:-1])\n",
    "    return token_id"
   ]
  },
  {
   "cell_type": "code",
   "execution_count": 22,
   "id": "brutal-linux",
   "metadata": {},
   "outputs": [],
   "source": [
    "def expand_token_id(ids, token_ids, words, entity_embedding, entity_position):\n",
    "    \"\"\"Expand token id and duplicate members in other list wherever necessary\"\"\"\n",
    "    # Test if all lists have the same length as expected\n",
    "    try:\n",
    "        assert len(ids) == len(token_ids) == len(words) == len(entity_embedding)\n",
    "    except AssertionError:\n",
    "        print(\"Input lists do not have the same length, abort\")\n",
    "        return ids, token_ids, words, entity_embedding, entity_position\n",
    "    new_ids = []\n",
    "    new_token_ids = []\n",
    "    new_words = []\n",
    "    new_entity_embedding = []\n",
    "    id_range = {}\n",
    "    last = 0\n",
    "    for i in range(len(ids)):\n",
    "        for tid in token_ids[i]:\n",
    "            new_ids.append(ids[i])\n",
    "            new_token_ids.append(tid)\n",
    "            new_words.append(words[i])\n",
    "            new_entity_embedding.append(entity_embedding[i])\n",
    "        id_range[ids[i]] = (last, len(new_ids))\n",
    "        last = len(new_ids)\n",
    "    for key in entity_position:\n",
    "        entity_position[key] = (id_range[entity_position[key][0]][0], \n",
    "                                id_range[entity_position[key][1]-1][1])\n",
    "    return new_ids, new_token_ids, new_words, new_entity_embedding, entity_position"
   ]
  },
  {
   "cell_type": "code",
   "execution_count": 23,
   "id": "experienced-encoding",
   "metadata": {},
   "outputs": [],
   "source": [
    "def extract_doc(document):\n",
    "    \"\"\"Extract data from a document\"\"\"\n",
    "    doc_id = document[0].split()[1]\n",
    "    index = []\n",
    "    words = []\n",
    "    entity_embedding = []\n",
    "    entity_id = []\n",
    "    relation_embedding = []\n",
    "    target_entity_embedding = []\n",
    "    entity_position = {}\n",
    "    relations = {}\n",
    "    entity_count = 0\n",
    "    relation_count = 0\n",
    "    # Parse the document\n",
    "    for line in document[1:]:\n",
    "        idx, word, entity_type, relation_types, target_entities = split_line(line)\n",
    "        index.append(int(idx))\n",
    "        words.append(word)\n",
    "        entity_embedding.append(entity_encode[entity_type])\n",
    "        relation_embedding.append(relation_types)\n",
    "        target_entity_embedding.append(target_entities)\n",
    "        if entity_type.startswith(\"B\") or \\\n",
    "                (entity_type.startswith(\"I\") and len(entity_embedding) >= 2 and entity_embedding[-2] == 0):\n",
    "                # if an I appears after an O, assume it's the start of a new entity\n",
    "            entity_count += 1\n",
    "            entity_id.append(entity_count)\n",
    "            entity_position[entity_count] = (int(idx), int(idx) + 1)\n",
    "        elif entity_type.startswith(\"I\"):\n",
    "            entity_id.append(entity_count)\n",
    "            entity_position[entity_count] = (entity_position[entity_count][0], int(idx) + 1)\n",
    "        else:\n",
    "            entity_id.append(0)\n",
    "    # Parse the relations\n",
    "    for idx in index:\n",
    "        if \"N\" not in relation_embedding[int(idx)]:\n",
    "            for relation, target in zip(relation_embedding[int(idx)], target_entity_embedding[int(idx)]):\n",
    "                relation_count += 1\n",
    "                relations[relation_count] = {\"type\": relation_encode[relation],\n",
    "                                             \"source\": entity_id[int(idx)], \n",
    "                                             \"target\": entity_id[target]}\n",
    "    # Tokenize and expand\n",
    "    token_ids = get_token_id(words)\n",
    "    data_frame = pd.DataFrame()\n",
    "    data_frame[\"ids\"], data_frame[\"token_ids\"], data_frame[\"words\"], data_frame[\"entity_embedding\"], \\\n",
    "        entity_position = expand_token_id(index, token_ids, words, entity_embedding, entity_position)\n",
    "    data_frame[\"tokens\"] = tokenizer.convert_ids_to_tokens(data_frame[\"token_ids\"]) \n",
    "    return {\"document\": doc_id,\n",
    "            \"data_frame\": data_frame,\n",
    "            \"entity_position\": entity_position,\n",
    "            \"relations\": relations}"
   ]
  },
  {
   "cell_type": "code",
   "execution_count": 24,
   "id": "signed-moderator",
   "metadata": {},
   "outputs": [
    {
     "data": {
      "text/plain": [
       "'1024'"
      ]
     },
     "execution_count": 24,
     "metadata": {},
     "output_type": "execute_result"
    }
   ],
   "source": [
    "docs = get_docs(\"train\")\n",
    "extract_doc(docs[0])[\"document\"]"
   ]
  },
  {
   "cell_type": "code",
   "execution_count": 25,
   "id": "complimentary-finger",
   "metadata": {
    "scrolled": true
   },
   "outputs": [
    {
     "data": {
      "text/html": [
       "<div>\n",
       "<style scoped>\n",
       "    .dataframe tbody tr th:only-of-type {\n",
       "        vertical-align: middle;\n",
       "    }\n",
       "\n",
       "    .dataframe tbody tr th {\n",
       "        vertical-align: top;\n",
       "    }\n",
       "\n",
       "    .dataframe thead th {\n",
       "        text-align: right;\n",
       "    }\n",
       "</style>\n",
       "<table border=\"1\" class=\"dataframe\">\n",
       "  <thead>\n",
       "    <tr style=\"text-align: right;\">\n",
       "      <th></th>\n",
       "      <th>ids</th>\n",
       "      <th>token_ids</th>\n",
       "      <th>words</th>\n",
       "      <th>entity_embedding</th>\n",
       "      <th>tokens</th>\n",
       "    </tr>\n",
       "  </thead>\n",
       "  <tbody>\n",
       "    <tr>\n",
       "      <th>0</th>\n",
       "      <td>0</td>\n",
       "      <td>2200</td>\n",
       "      <td>Very</td>\n",
       "      <td>0</td>\n",
       "      <td>very</td>\n",
       "    </tr>\n",
       "    <tr>\n",
       "      <th>1</th>\n",
       "      <td>1</td>\n",
       "      <td>2844</td>\n",
       "      <td>strong</td>\n",
       "      <td>0</td>\n",
       "      <td>strong</td>\n",
       "    </tr>\n",
       "    <tr>\n",
       "      <th>2</th>\n",
       "      <td>2</td>\n",
       "      <td>2148</td>\n",
       "      <td>south</td>\n",
       "      <td>0</td>\n",
       "      <td>south</td>\n",
       "    </tr>\n",
       "    <tr>\n",
       "      <th>3</th>\n",
       "      <td>3</td>\n",
       "      <td>7266</td>\n",
       "      <td>winds</td>\n",
       "      <td>0</td>\n",
       "      <td>winds</td>\n",
       "    </tr>\n",
       "    <tr>\n",
       "      <th>4</th>\n",
       "      <td>4</td>\n",
       "      <td>5642</td>\n",
       "      <td>accompanied</td>\n",
       "      <td>0</td>\n",
       "      <td>accompanied</td>\n",
       "    </tr>\n",
       "    <tr>\n",
       "      <th>5</th>\n",
       "      <td>5</td>\n",
       "      <td>1996</td>\n",
       "      <td>the</td>\n",
       "      <td>0</td>\n",
       "      <td>the</td>\n",
       "    </tr>\n",
       "    <tr>\n",
       "      <th>6</th>\n",
       "      <td>6</td>\n",
       "      <td>4040</td>\n",
       "      <td>storm</td>\n",
       "      <td>0</td>\n",
       "      <td>storm</td>\n",
       "    </tr>\n",
       "    <tr>\n",
       "      <th>7</th>\n",
       "      <td>7</td>\n",
       "      <td>2291</td>\n",
       "      <td>system</td>\n",
       "      <td>0</td>\n",
       "      <td>system</td>\n",
       "    </tr>\n",
       "    <tr>\n",
       "      <th>8</th>\n",
       "      <td>8</td>\n",
       "      <td>1010</td>\n",
       "      <td>,</td>\n",
       "      <td>0</td>\n",
       "      <td>,</td>\n",
       "    </tr>\n",
       "    <tr>\n",
       "      <th>9</th>\n",
       "      <td>9</td>\n",
       "      <td>2007</td>\n",
       "      <td>with</td>\n",
       "      <td>0</td>\n",
       "      <td>with</td>\n",
       "    </tr>\n",
       "    <tr>\n",
       "      <th>10</th>\n",
       "      <td>10</td>\n",
       "      <td>2753</td>\n",
       "      <td>50-to</td>\n",
       "      <td>0</td>\n",
       "      <td>50</td>\n",
       "    </tr>\n",
       "    <tr>\n",
       "      <th>11</th>\n",
       "      <td>10</td>\n",
       "      <td>1011</td>\n",
       "      <td>50-to</td>\n",
       "      <td>0</td>\n",
       "      <td>-</td>\n",
       "    </tr>\n",
       "    <tr>\n",
       "      <th>12</th>\n",
       "      <td>10</td>\n",
       "      <td>2000</td>\n",
       "      <td>50-to</td>\n",
       "      <td>0</td>\n",
       "      <td>to</td>\n",
       "    </tr>\n",
       "    <tr>\n",
       "      <th>13</th>\n",
       "      <td>11</td>\n",
       "      <td>3963</td>\n",
       "      <td>70-mph</td>\n",
       "      <td>0</td>\n",
       "      <td>70</td>\n",
       "    </tr>\n",
       "    <tr>\n",
       "      <th>14</th>\n",
       "      <td>11</td>\n",
       "      <td>1011</td>\n",
       "      <td>70-mph</td>\n",
       "      <td>0</td>\n",
       "      <td>-</td>\n",
       "    </tr>\n",
       "    <tr>\n",
       "      <th>15</th>\n",
       "      <td>11</td>\n",
       "      <td>5601</td>\n",
       "      <td>70-mph</td>\n",
       "      <td>0</td>\n",
       "      <td>mph</td>\n",
       "    </tr>\n",
       "    <tr>\n",
       "      <th>16</th>\n",
       "      <td>12</td>\n",
       "      <td>3612</td>\n",
       "      <td>wind</td>\n",
       "      <td>0</td>\n",
       "      <td>wind</td>\n",
       "    </tr>\n",
       "    <tr>\n",
       "      <th>17</th>\n",
       "      <td>13</td>\n",
       "      <td>26903</td>\n",
       "      <td>gusts</td>\n",
       "      <td>0</td>\n",
       "      <td>gust</td>\n",
       "    </tr>\n",
       "    <tr>\n",
       "      <th>18</th>\n",
       "      <td>13</td>\n",
       "      <td>2015</td>\n",
       "      <td>gusts</td>\n",
       "      <td>0</td>\n",
       "      <td>##s</td>\n",
       "    </tr>\n",
       "    <tr>\n",
       "      <th>19</th>\n",
       "      <td>14</td>\n",
       "      <td>2988</td>\n",
       "      <td>reported</td>\n",
       "      <td>0</td>\n",
       "      <td>reported</td>\n",
       "    </tr>\n",
       "    <tr>\n",
       "      <th>20</th>\n",
       "      <td>15</td>\n",
       "      <td>2379</td>\n",
       "      <td>near</td>\n",
       "      <td>0</td>\n",
       "      <td>near</td>\n",
       "    </tr>\n",
       "    <tr>\n",
       "      <th>21</th>\n",
       "      <td>16</td>\n",
       "      <td>9026</td>\n",
       "      <td>Grande</td>\n",
       "      <td>1</td>\n",
       "      <td>grande</td>\n",
       "    </tr>\n",
       "    <tr>\n",
       "      <th>22</th>\n",
       "      <td>17</td>\n",
       "      <td>8842</td>\n",
       "      <td>Isle</td>\n",
       "      <td>2</td>\n",
       "      <td>isle</td>\n",
       "    </tr>\n",
       "    <tr>\n",
       "      <th>23</th>\n",
       "      <td>18</td>\n",
       "      <td>1998</td>\n",
       "      <td>and</td>\n",
       "      <td>0</td>\n",
       "      <td>and</td>\n",
       "    </tr>\n",
       "    <tr>\n",
       "      <th>24</th>\n",
       "      <td>19</td>\n",
       "      <td>2358</td>\n",
       "      <td>St.</td>\n",
       "      <td>1</td>\n",
       "      <td>st</td>\n",
       "    </tr>\n",
       "    <tr>\n",
       "      <th>25</th>\n",
       "      <td>19</td>\n",
       "      <td>1012</td>\n",
       "      <td>St.</td>\n",
       "      <td>1</td>\n",
       "      <td>.</td>\n",
       "    </tr>\n",
       "    <tr>\n",
       "      <th>26</th>\n",
       "      <td>20</td>\n",
       "      <td>26311</td>\n",
       "      <td>Albans</td>\n",
       "      <td>2</td>\n",
       "      <td>albans</td>\n",
       "    </tr>\n",
       "    <tr>\n",
       "      <th>27</th>\n",
       "      <td>21</td>\n",
       "      <td>1010</td>\n",
       "      <td>,</td>\n",
       "      <td>0</td>\n",
       "      <td>,</td>\n",
       "    </tr>\n",
       "    <tr>\n",
       "      <th>28</th>\n",
       "      <td>22</td>\n",
       "      <td>28879</td>\n",
       "      <td>Vt.</td>\n",
       "      <td>1</td>\n",
       "      <td>vt</td>\n",
       "    </tr>\n",
       "    <tr>\n",
       "      <th>29</th>\n",
       "      <td>22</td>\n",
       "      <td>1012</td>\n",
       "      <td>Vt.</td>\n",
       "      <td>1</td>\n",
       "      <td>.</td>\n",
       "    </tr>\n",
       "    <tr>\n",
       "      <th>30</th>\n",
       "      <td>23</td>\n",
       "      <td>1010</td>\n",
       "      <td>,</td>\n",
       "      <td>0</td>\n",
       "      <td>,</td>\n",
       "    </tr>\n",
       "    <tr>\n",
       "      <th>31</th>\n",
       "      <td>24</td>\n",
       "      <td>11221</td>\n",
       "      <td>blowing</td>\n",
       "      <td>0</td>\n",
       "      <td>blowing</td>\n",
       "    </tr>\n",
       "    <tr>\n",
       "      <th>32</th>\n",
       "      <td>25</td>\n",
       "      <td>2091</td>\n",
       "      <td>down</td>\n",
       "      <td>0</td>\n",
       "      <td>down</td>\n",
       "    </tr>\n",
       "    <tr>\n",
       "      <th>33</th>\n",
       "      <td>26</td>\n",
       "      <td>1037</td>\n",
       "      <td>a</td>\n",
       "      <td>0</td>\n",
       "      <td>a</td>\n",
       "    </tr>\n",
       "    <tr>\n",
       "      <th>34</th>\n",
       "      <td>27</td>\n",
       "      <td>2312</td>\n",
       "      <td>large</td>\n",
       "      <td>0</td>\n",
       "      <td>large</td>\n",
       "    </tr>\n",
       "    <tr>\n",
       "      <th>35</th>\n",
       "      <td>28</td>\n",
       "      <td>2557</td>\n",
       "      <td>radio</td>\n",
       "      <td>0</td>\n",
       "      <td>radio</td>\n",
       "    </tr>\n",
       "    <tr>\n",
       "      <th>36</th>\n",
       "      <td>29</td>\n",
       "      <td>3578</td>\n",
       "      <td>tower</td>\n",
       "      <td>0</td>\n",
       "      <td>tower</td>\n",
       "    </tr>\n",
       "    <tr>\n",
       "      <th>37</th>\n",
       "      <td>30</td>\n",
       "      <td>1998</td>\n",
       "      <td>and</td>\n",
       "      <td>0</td>\n",
       "      <td>and</td>\n",
       "    </tr>\n",
       "    <tr>\n",
       "      <th>38</th>\n",
       "      <td>31</td>\n",
       "      <td>4786</td>\n",
       "      <td>causing</td>\n",
       "      <td>0</td>\n",
       "      <td>causing</td>\n",
       "    </tr>\n",
       "    <tr>\n",
       "      <th>39</th>\n",
       "      <td>32</td>\n",
       "      <td>2195</td>\n",
       "      <td>several</td>\n",
       "      <td>0</td>\n",
       "      <td>several</td>\n",
       "    </tr>\n",
       "    <tr>\n",
       "      <th>40</th>\n",
       "      <td>33</td>\n",
       "      <td>2373</td>\n",
       "      <td>power</td>\n",
       "      <td>0</td>\n",
       "      <td>power</td>\n",
       "    </tr>\n",
       "    <tr>\n",
       "      <th>41</th>\n",
       "      <td>34</td>\n",
       "      <td>2041</td>\n",
       "      <td>outages</td>\n",
       "      <td>0</td>\n",
       "      <td>out</td>\n",
       "    </tr>\n",
       "    <tr>\n",
       "      <th>42</th>\n",
       "      <td>34</td>\n",
       "      <td>13923</td>\n",
       "      <td>outages</td>\n",
       "      <td>0</td>\n",
       "      <td>##ages</td>\n",
       "    </tr>\n",
       "    <tr>\n",
       "      <th>43</th>\n",
       "      <td>35</td>\n",
       "      <td>1012</td>\n",
       "      <td>.</td>\n",
       "      <td>0</td>\n",
       "      <td>.</td>\n",
       "    </tr>\n",
       "  </tbody>\n",
       "</table>\n",
       "</div>"
      ],
      "text/plain": [
       "    ids  token_ids        words  entity_embedding       tokens\n",
       "0     0       2200         Very                 0         very\n",
       "1     1       2844       strong                 0       strong\n",
       "2     2       2148        south                 0        south\n",
       "3     3       7266        winds                 0        winds\n",
       "4     4       5642  accompanied                 0  accompanied\n",
       "5     5       1996          the                 0          the\n",
       "6     6       4040        storm                 0        storm\n",
       "7     7       2291       system                 0       system\n",
       "8     8       1010            ,                 0            ,\n",
       "9     9       2007         with                 0         with\n",
       "10   10       2753        50-to                 0           50\n",
       "11   10       1011        50-to                 0            -\n",
       "12   10       2000        50-to                 0           to\n",
       "13   11       3963       70-mph                 0           70\n",
       "14   11       1011       70-mph                 0            -\n",
       "15   11       5601       70-mph                 0          mph\n",
       "16   12       3612         wind                 0         wind\n",
       "17   13      26903        gusts                 0         gust\n",
       "18   13       2015        gusts                 0          ##s\n",
       "19   14       2988     reported                 0     reported\n",
       "20   15       2379         near                 0         near\n",
       "21   16       9026       Grande                 1       grande\n",
       "22   17       8842         Isle                 2         isle\n",
       "23   18       1998          and                 0          and\n",
       "24   19       2358          St.                 1           st\n",
       "25   19       1012          St.                 1            .\n",
       "26   20      26311       Albans                 2       albans\n",
       "27   21       1010            ,                 0            ,\n",
       "28   22      28879          Vt.                 1           vt\n",
       "29   22       1012          Vt.                 1            .\n",
       "30   23       1010            ,                 0            ,\n",
       "31   24      11221      blowing                 0      blowing\n",
       "32   25       2091         down                 0         down\n",
       "33   26       1037            a                 0            a\n",
       "34   27       2312        large                 0        large\n",
       "35   28       2557        radio                 0        radio\n",
       "36   29       3578        tower                 0        tower\n",
       "37   30       1998          and                 0          and\n",
       "38   31       4786      causing                 0      causing\n",
       "39   32       2195      several                 0      several\n",
       "40   33       2373        power                 0        power\n",
       "41   34       2041      outages                 0          out\n",
       "42   34      13923      outages                 0       ##ages\n",
       "43   35       1012            .                 0            ."
      ]
     },
     "execution_count": 25,
     "metadata": {},
     "output_type": "execute_result"
    }
   ],
   "source": [
    "extract_doc(docs[0])[\"data_frame\"]"
   ]
  },
  {
   "cell_type": "code",
   "execution_count": 26,
   "id": "nuclear-funds",
   "metadata": {},
   "outputs": [
    {
     "data": {
      "text/plain": [
       "{1: (21, 23), 2: (24, 27), 3: (28, 30)}"
      ]
     },
     "execution_count": 26,
     "metadata": {},
     "output_type": "execute_result"
    }
   ],
   "source": [
    "extract_doc(docs[0])[\"entity_position\"]"
   ]
  },
  {
   "cell_type": "code",
   "execution_count": 27,
   "id": "hindu-minutes",
   "metadata": {},
   "outputs": [
    {
     "data": {
      "text/plain": [
       "{1: {'type': 2, 'source': 1, 'target': 3},\n",
       " 2: {'type': 2, 'source': 2, 'target': 3}}"
      ]
     },
     "execution_count": 27,
     "metadata": {},
     "output_type": "execute_result"
    }
   ],
   "source": [
    "extract_doc(docs[0])[\"relations\"]"
   ]
  },
  {
   "cell_type": "code",
   "execution_count": 28,
   "id": "micro-shift",
   "metadata": {},
   "outputs": [],
   "source": [
    "def extract_data(group):\n",
    "    \"\"\"Extract all documents to a dataset\"\"\"\n",
    "    docs = get_docs(group)\n",
    "    data = []\n",
    "    for document in docs:\n",
    "        data.append(extract_doc(document))\n",
    "    return data"
   ]
  },
  {
   "cell_type": "code",
   "execution_count": 29,
   "id": "final-township",
   "metadata": {},
   "outputs": [],
   "source": [
    "def check_extracted_data(data):\n",
    "    \"\"\"Check if all extracted data is valid\"\"\"\n",
    "    for item in data:\n",
    "        document_name = item[\"document\"]\n",
    "        data_frame = item[\"data_frame\"]\n",
    "        entity_position = item[\"entity_position\"]\n",
    "        relations = item[\"relations\"]\n",
    "\n",
    "        # Check if entities correctly embedded\n",
    "        entity_embedding = data_frame[\"entity_embedding\"].tolist()\n",
    "        cnt = 0\n",
    "        for entity_key in entity_position:\n",
    "            low, high = entity_position[entity_key]\n",
    "            cnt += high - low\n",
    "            if high == low:\n",
    "                print(\"Check failed at document\", document_name, \"in 'entity_embedding', key\", entity_key, \n",
    "                      \"is empty (from\", low, \"to\", high, \")\")\n",
    "            else:\n",
    "                try:\n",
    "                    assert abs(min(entity_embedding[low:high]) - max(entity_embedding[low:high])) <= 1\n",
    "                except AssertionError:\n",
    "                    print(\"Check failed at document\", document_name, \"in 'entity_embedding', key\", entity_key,\n",
    "                          \", values from\", low, \"to\", high, \":\", entity_embedding[low:high], \"are inconsistent\")\n",
    "        try:\n",
    "            assert cnt == (np.array(entity_embedding) != 0).astype(int).sum()\n",
    "        except AssertionError:\n",
    "            print(\"Check failed at document\", document_name, \"in total entity embedded tokens\",\n",
    "                  (np.array(entity_embedding) != 0).astype(int).sum(), \"does not match the record\", cnt)\n",
    "\n",
    "        # Check if all relations are valid\n",
    "        for value in relations.values():\n",
    "            first = value[\"source\"]\n",
    "            second = value[\"target\"]\n",
    "            try:\n",
    "                assert first in entity_position\n",
    "            except AssertionError:\n",
    "                print(\"Check failed at document\", document_name, \"in 'relations',\", first,\n",
    "                      \"is not found in record\")\n",
    "            try:\n",
    "                assert second in entity_position\n",
    "            except AssertionError:\n",
    "                print(\"Check failed at document\", document_name, \"in 'relations',\", second,\n",
    "                      \"is not found in record\")\n"
   ]
  },
  {
   "cell_type": "code",
   "execution_count": 30,
   "id": "sunrise-shooting",
   "metadata": {},
   "outputs": [],
   "source": [
    "data = extract_data(\"train\") + extract_data(\"dev\") + extract_data(\"test\")"
   ]
  },
  {
   "cell_type": "code",
   "execution_count": 31,
   "id": "arabic-psychology",
   "metadata": {},
   "outputs": [],
   "source": [
    "check_extracted_data(data)"
   ]
  },
  {
   "cell_type": "code",
   "execution_count": null,
   "id": "beginning-winning",
   "metadata": {},
   "outputs": [],
   "source": []
  }
 ],
 "metadata": {
  "kernelspec": {
   "display_name": "Python 3",
   "language": "python",
   "name": "python3"
  },
  "language_info": {
   "codemirror_mode": {
    "name": "ipython",
    "version": 3
   },
   "file_extension": ".py",
   "mimetype": "text/x-python",
   "name": "python",
   "nbconvert_exporter": "python",
   "pygments_lexer": "ipython3",
   "version": "3.8.5"
  }
 },
 "nbformat": 4,
 "nbformat_minor": 5
}
